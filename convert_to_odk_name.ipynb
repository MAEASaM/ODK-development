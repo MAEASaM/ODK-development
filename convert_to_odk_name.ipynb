{
 "cells": [
  {
   "cell_type": "markdown",
   "id": "1e812c77-8d50-47f8-8558-18d72d8df4cd",
   "metadata": {},
   "source": [
    "This script converts label format to name format in the choice sheet of a odk form"
   ]
  },
  {
   "cell_type": "code",
   "execution_count": 1,
   "id": "1f3f86df-35cb-4a76-8167-4b6146f53265",
   "metadata": {},
   "outputs": [],
   "source": [
    "# path to the file\n",
    "excel_file_name = \"chronolgy.xlsx\"\n",
    "# target column to parse\n",
    "target_column = \"Chronology\""
   ]
  },
  {
   "cell_type": "code",
   "execution_count": 2,
   "id": "c3c10d03-76d2-42a7-bd80-f523b713f98a",
   "metadata": {},
   "outputs": [],
   "source": [
    "import pandas as pd"
   ]
  },
  {
   "cell_type": "code",
   "execution_count": 3,
   "id": "83dfc868-6336-4f66-9bf3-25215dc759c6",
   "metadata": {},
   "outputs": [],
   "source": [
    "df = pd.read_excel(excel_file_name)"
   ]
  },
  {
   "cell_type": "code",
   "execution_count": 4,
   "id": "623a9a26-5d2d-4824-8e5f-d62447d998f6",
   "metadata": {},
   "outputs": [
    {
     "data": {
      "text/html": [
       "<div>\n",
       "<style scoped>\n",
       "    .dataframe tbody tr th:only-of-type {\n",
       "        vertical-align: middle;\n",
       "    }\n",
       "\n",
       "    .dataframe tbody tr th {\n",
       "        vertical-align: top;\n",
       "    }\n",
       "\n",
       "    .dataframe thead th {\n",
       "        text-align: right;\n",
       "    }\n",
       "</style>\n",
       "<table border=\"1\" class=\"dataframe\">\n",
       "  <thead>\n",
       "    <tr style=\"text-align: right;\">\n",
       "      <th></th>\n",
       "      <th>Chronology</th>\n",
       "    </tr>\n",
       "  </thead>\n",
       "  <tbody>\n",
       "    <tr>\n",
       "      <th>0</th>\n",
       "      <td>Stone Age (Southern Africa)</td>\n",
       "    </tr>\n",
       "    <tr>\n",
       "      <th>1</th>\n",
       "      <td>Early Stone Age (Southern Africa)</td>\n",
       "    </tr>\n",
       "    <tr>\n",
       "      <th>2</th>\n",
       "      <td>Middle Stone Age (Southern Africa)</td>\n",
       "    </tr>\n",
       "    <tr>\n",
       "      <th>3</th>\n",
       "      <td>Later Stone Age (Southern Africa)</td>\n",
       "    </tr>\n",
       "    <tr>\n",
       "      <th>4</th>\n",
       "      <td>Oldowan (Southern Africa)</td>\n",
       "    </tr>\n",
       "    <tr>\n",
       "      <th>5</th>\n",
       "      <td>Acheulean (Southern Africa)</td>\n",
       "    </tr>\n",
       "    <tr>\n",
       "      <th>6</th>\n",
       "      <td>Acheuleen (Southern Africa)</td>\n",
       "    </tr>\n",
       "    <tr>\n",
       "      <th>7</th>\n",
       "      <td>Early Later Stone Age (Southern Africa)</td>\n",
       "    </tr>\n",
       "    <tr>\n",
       "      <th>8</th>\n",
       "      <td>Late Pleistocene Microlithic (Southern Africa)</td>\n",
       "    </tr>\n",
       "    <tr>\n",
       "      <th>9</th>\n",
       "      <td>Robberg</td>\n",
       "    </tr>\n",
       "  </tbody>\n",
       "</table>\n",
       "</div>"
      ],
      "text/plain": [
       "                                       Chronology\n",
       "0                     Stone Age (Southern Africa)\n",
       "1               Early Stone Age (Southern Africa)\n",
       "2              Middle Stone Age (Southern Africa)\n",
       "3               Later Stone Age (Southern Africa)\n",
       "4                       Oldowan (Southern Africa)\n",
       "5                     Acheulean (Southern Africa)\n",
       "6                     Acheuleen (Southern Africa)\n",
       "7         Early Later Stone Age (Southern Africa)\n",
       "8  Late Pleistocene Microlithic (Southern Africa)\n",
       "9                                         Robberg"
      ]
     },
     "execution_count": 4,
     "metadata": {},
     "output_type": "execute_result"
    }
   ],
   "source": [
    "df.head(10)"
   ]
  },
  {
   "cell_type": "code",
   "execution_count": 5,
   "id": "0307de62-c677-4737-bf4f-cb84cec01c83",
   "metadata": {},
   "outputs": [
    {
     "data": {
      "text/plain": [
       "(460, 1)"
      ]
     },
     "execution_count": 5,
     "metadata": {},
     "output_type": "execute_result"
    }
   ],
   "source": [
    "df.shape"
   ]
  },
  {
   "cell_type": "code",
   "execution_count": 6,
   "id": "b087383c-6980-4c36-b339-1b195b49d55d",
   "metadata": {},
   "outputs": [],
   "source": [
    "# assign the name of new column\n",
    "new_column = target_column + \"_coor\""
   ]
  },
  {
   "cell_type": "code",
   "execution_count": 7,
   "id": "18ee5c8c-60a2-4573-ad4f-7a664bd81a12",
   "metadata": {},
   "outputs": [
    {
     "data": {
      "text/html": [
       "<div>\n",
       "<style scoped>\n",
       "    .dataframe tbody tr th:only-of-type {\n",
       "        vertical-align: middle;\n",
       "    }\n",
       "\n",
       "    .dataframe tbody tr th {\n",
       "        vertical-align: top;\n",
       "    }\n",
       "\n",
       "    .dataframe thead th {\n",
       "        text-align: right;\n",
       "    }\n",
       "</style>\n",
       "<table border=\"1\" class=\"dataframe\">\n",
       "  <thead>\n",
       "    <tr style=\"text-align: right;\">\n",
       "      <th></th>\n",
       "      <th>Chronology</th>\n",
       "      <th>Chronology_coor</th>\n",
       "    </tr>\n",
       "  </thead>\n",
       "  <tbody>\n",
       "    <tr>\n",
       "      <th>0</th>\n",
       "      <td>Stone Age (Southern Africa)</td>\n",
       "      <td>stone_age__southern_africa_</td>\n",
       "    </tr>\n",
       "    <tr>\n",
       "      <th>1</th>\n",
       "      <td>Early Stone Age (Southern Africa)</td>\n",
       "      <td>early_stone_age__southern_africa_</td>\n",
       "    </tr>\n",
       "    <tr>\n",
       "      <th>2</th>\n",
       "      <td>Middle Stone Age (Southern Africa)</td>\n",
       "      <td>middle_stone_age__southern_africa_</td>\n",
       "    </tr>\n",
       "    <tr>\n",
       "      <th>3</th>\n",
       "      <td>Later Stone Age (Southern Africa)</td>\n",
       "      <td>later_stone_age__southern_africa_</td>\n",
       "    </tr>\n",
       "    <tr>\n",
       "      <th>4</th>\n",
       "      <td>Oldowan (Southern Africa)</td>\n",
       "      <td>oldowan__southern_africa_</td>\n",
       "    </tr>\n",
       "    <tr>\n",
       "      <th>...</th>\n",
       "      <td>...</td>\n",
       "      <td>...</td>\n",
       "    </tr>\n",
       "    <tr>\n",
       "      <th>455</th>\n",
       "      <td>5th Century AD/CE</td>\n",
       "      <td>5th_century_ad_ce</td>\n",
       "    </tr>\n",
       "    <tr>\n",
       "      <th>456</th>\n",
       "      <td>4th Century AD/CE</td>\n",
       "      <td>4th_century_ad_ce</td>\n",
       "    </tr>\n",
       "    <tr>\n",
       "      <th>457</th>\n",
       "      <td>3rd Century AD/CE</td>\n",
       "      <td>3rd_century_ad_ce</td>\n",
       "    </tr>\n",
       "    <tr>\n",
       "      <th>458</th>\n",
       "      <td>2nd Century AD/CE</td>\n",
       "      <td>2nd_century_ad_ce</td>\n",
       "    </tr>\n",
       "    <tr>\n",
       "      <th>459</th>\n",
       "      <td>1st Century AD/CE</td>\n",
       "      <td>1st_century_ad_ce</td>\n",
       "    </tr>\n",
       "  </tbody>\n",
       "</table>\n",
       "<p>460 rows × 2 columns</p>\n",
       "</div>"
      ],
      "text/plain": [
       "                             Chronology                     Chronology_coor\n",
       "0           Stone Age (Southern Africa)         stone_age__southern_africa_\n",
       "1     Early Stone Age (Southern Africa)   early_stone_age__southern_africa_\n",
       "2    Middle Stone Age (Southern Africa)  middle_stone_age__southern_africa_\n",
       "3     Later Stone Age (Southern Africa)   later_stone_age__southern_africa_\n",
       "4             Oldowan (Southern Africa)           oldowan__southern_africa_\n",
       "..                                  ...                                 ...\n",
       "455                   5th Century AD/CE                   5th_century_ad_ce\n",
       "456                   4th Century AD/CE                   4th_century_ad_ce\n",
       "457                   3rd Century AD/CE                   3rd_century_ad_ce\n",
       "458                   2nd Century AD/CE                   2nd_century_ad_ce\n",
       "459                   1st Century AD/CE                   1st_century_ad_ce\n",
       "\n",
       "[460 rows x 2 columns]"
      ]
     },
     "execution_count": 7,
     "metadata": {},
     "output_type": "execute_result"
    }
   ],
   "source": [
    "# lower case and convert all non alphanumeric to underscores (preserves accented latin characters)\n",
    "df[new_column] = df[target_column].str.lower().replace('[^a-zA-Z\\d\\u00C0-\\u00FF]', '_', regex=True).to_frame()\n",
    "df"
   ]
  },
  {
   "cell_type": "code",
   "execution_count": 8,
   "id": "a3d31136-30c4-45f0-aceb-372a33643416",
   "metadata": {},
   "outputs": [
    {
     "data": {
      "text/plain": [
       "'chronolgy'"
      ]
     },
     "execution_count": 8,
     "metadata": {},
     "output_type": "execute_result"
    }
   ],
   "source": [
    " excel_file_name[:-5]"
   ]
  },
  {
   "cell_type": "code",
   "execution_count": 9,
   "id": "c7bd75c3-73e7-4494-8f23-862bd24b2c7c",
   "metadata": {},
   "outputs": [],
   "source": [
    "# export the reults to new file\n",
    "new_file_name =  excel_file_name[:-5]+'_coor.xlsx'\n",
    "df.to_excel(new_file_name, encoding='latin1')"
   ]
  }
 ],
 "metadata": {
  "kernelspec": {
   "display_name": "Python 3 (ipykernel)",
   "language": "python",
   "name": "python3"
  },
  "language_info": {
   "codemirror_mode": {
    "name": "ipython",
    "version": 3
   },
   "file_extension": ".py",
   "mimetype": "text/x-python",
   "name": "python",
   "nbconvert_exporter": "python",
   "pygments_lexer": "ipython3",
   "version": "3.8.10"
  }
 },
 "nbformat": 4,
 "nbformat_minor": 5
}
