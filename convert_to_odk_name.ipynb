{
 "cells": [
  {
   "cell_type": "markdown",
   "id": "1e812c77-8d50-47f8-8558-18d72d8df4cd",
   "metadata": {},
   "source": [
    "This script converts label format to name format in the choice sheet of a odk form"
   ]
  },
  {
   "cell_type": "code",
   "execution_count": null,
   "id": "c3c10d03-76d2-42a7-bd80-f523b713f98a",
   "metadata": {},
   "outputs": [],
   "source": [
    "import pandas as pd"
   ]
  },
  {
   "cell_type": "code",
   "execution_count": 7,
   "id": "83dfc868-6336-4f66-9bf3-25215dc759c6",
   "metadata": {},
   "outputs": [],
   "source": [
    "df = pd.read_excel('chronolgy.xlsx')"
   ]
  },
  {
   "cell_type": "code",
   "execution_count": 8,
   "id": "0307de62-c677-4737-bf4f-cb84cec01c83",
   "metadata": {},
   "outputs": [
    {
     "data": {
      "text/plain": [
       "(460, 1)"
      ]
     },
     "execution_count": 8,
     "metadata": {},
     "output_type": "execute_result"
    }
   ],
   "source": [
    "df.shape"
   ]
  },
  {
   "cell_type": "code",
   "execution_count": 9,
   "id": "18ee5c8c-60a2-4573-ad4f-7a664bd81a12",
   "metadata": {},
   "outputs": [
    {
     "data": {
      "text/html": [
       "<div>\n",
       "<style scoped>\n",
       "    .dataframe tbody tr th:only-of-type {\n",
       "        vertical-align: middle;\n",
       "    }\n",
       "\n",
       "    .dataframe tbody tr th {\n",
       "        vertical-align: top;\n",
       "    }\n",
       "\n",
       "    .dataframe thead th {\n",
       "        text-align: right;\n",
       "    }\n",
       "</style>\n",
       "<table border=\"1\" class=\"dataframe\">\n",
       "  <thead>\n",
       "    <tr style=\"text-align: right;\">\n",
       "      <th></th>\n",
       "      <th>Chronology</th>\n",
       "    </tr>\n",
       "  </thead>\n",
       "  <tbody>\n",
       "    <tr>\n",
       "      <th>0</th>\n",
       "      <td>stone_age_(southern_africa)</td>\n",
       "    </tr>\n",
       "    <tr>\n",
       "      <th>1</th>\n",
       "      <td>early_stone_age_(southern_africa)</td>\n",
       "    </tr>\n",
       "    <tr>\n",
       "      <th>2</th>\n",
       "      <td>middle_stone_age_(southern_africa)</td>\n",
       "    </tr>\n",
       "    <tr>\n",
       "      <th>3</th>\n",
       "      <td>later_stone_age_(southern_africa)</td>\n",
       "    </tr>\n",
       "    <tr>\n",
       "      <th>4</th>\n",
       "      <td>oldowan_(southern_africa)</td>\n",
       "    </tr>\n",
       "    <tr>\n",
       "      <th>...</th>\n",
       "      <td>...</td>\n",
       "    </tr>\n",
       "    <tr>\n",
       "      <th>455</th>\n",
       "      <td>5th_century_ad_ce</td>\n",
       "    </tr>\n",
       "    <tr>\n",
       "      <th>456</th>\n",
       "      <td>4th_century_ad_ce</td>\n",
       "    </tr>\n",
       "    <tr>\n",
       "      <th>457</th>\n",
       "      <td>3rd_century_ad_ce</td>\n",
       "    </tr>\n",
       "    <tr>\n",
       "      <th>458</th>\n",
       "      <td>2nd_century_ad_ce</td>\n",
       "    </tr>\n",
       "    <tr>\n",
       "      <th>459</th>\n",
       "      <td>1st_century_ad_ce</td>\n",
       "    </tr>\n",
       "  </tbody>\n",
       "</table>\n",
       "<p>460 rows × 1 columns</p>\n",
       "</div>"
      ],
      "text/plain": [
       "                             Chronology\n",
       "0           stone_age_(southern_africa)\n",
       "1     early_stone_age_(southern_africa)\n",
       "2    middle_stone_age_(southern_africa)\n",
       "3     later_stone_age_(southern_africa)\n",
       "4             oldowan_(southern_africa)\n",
       "..                                  ...\n",
       "455                   5th_century_ad_ce\n",
       "456                   4th_century_ad_ce\n",
       "457                   3rd_century_ad_ce\n",
       "458                   2nd_century_ad_ce\n",
       "459                   1st_century_ad_ce\n",
       "\n",
       "[460 rows x 1 columns]"
      ]
     },
     "execution_count": 9,
     "metadata": {},
     "output_type": "execute_result"
    }
   ],
   "source": [
    "df2 = df.Chronology.str.lower().replace(' ', '_', regex=True).to_frame()\n",
    "df2 = df2.Chronology.str.replace(\"/\", \"_\").to_frame() #Replace \"/\" by \"_\"\n",
    "df2"
   ]
  },
  {
   "cell_type": "code",
   "execution_count": 10,
   "id": "ddd8b18f-bfeb-4a47-9179-7b1a229d58d2",
   "metadata": {},
   "outputs": [],
   "source": [
    "# df2.Chronology.str.replace(r\"\\s+\\(.*\\)\",\" \")"
   ]
  },
  {
   "cell_type": "code",
   "execution_count": 11,
   "id": "c7bd75c3-73e7-4494-8f23-862bd24b2c7c",
   "metadata": {},
   "outputs": [],
   "source": [
    "df2.to_excel('chronology_corr.xlsx', encoding='latin1')"
   ]
  },
  {
   "cell_type": "code",
   "execution_count": null,
   "id": "faf71bd6-b466-4d36-85e0-e38165064a28",
   "metadata": {},
   "outputs": [],
   "source": []
  }
 ],
 "metadata": {
  "kernelspec": {
   "display_name": "Python 3 (ipykernel)",
   "language": "python",
   "name": "python3"
  },
  "language_info": {
   "codemirror_mode": {
    "name": "ipython",
    "version": 3
   },
   "file_extension": ".py",
   "mimetype": "text/x-python",
   "name": "python",
   "nbconvert_exporter": "python",
   "pygments_lexer": "ipython3",
   "version": "3.9.12"
  }
 },
 "nbformat": 4,
 "nbformat_minor": 5
}
