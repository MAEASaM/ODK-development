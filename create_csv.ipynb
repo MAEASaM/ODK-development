{
 "cells": [
  {
   "cell_type": "markdown",
   "id": "bdf61de0-fde1-42da-8a89-ce21d3065d04",
   "metadata": {},
   "source": [
    "This script is for create a csv file with one column. This is useful for doing autocomplete search on external csv"
   ]
  },
  {
   "cell_type": "code",
   "execution_count": 1,
   "id": "d75bd0d2-200b-4f4d-b983-838f5a45aa95",
   "metadata": {},
   "outputs": [],
   "source": [
    "import csv"
   ]
  },
  {
   "cell_type": "code",
   "execution_count": 6,
   "id": "9d1d8817-db5d-457f-a39e-93a52fb25c67",
   "metadata": {},
   "outputs": [],
   "source": [
    "#write code of collectors into a csv\n",
    "with open ('collectors_maeasam.csv', 'w', newline=\"\") as f:\n",
    "    thewriter = csv.writer(f)\n",
    "    \n",
    "    thewriter.writerow(['pcode', 'recorders'])\n",
    "    thewriter.writerow(['SEN0000', 'Mamadou'])\n",
    "    thewriter.writerow(['KEN0000', 'Angela'])\n",
    "    thewriter.writerow(['ZIM0000', 'Ezekia1'])\n",
    "    thewriter.writerow(['ZIM0001', 'Ezekia2'])\n",
    "    thewriter.writerow(['ZIM0002', 'Ezekia3'])\n",
    "    thewriter.writerow(['SUD0000', 'Ed'])\n",
    "    thewriter.writerow(['MAL0000', 'Eloise'])\n",
    "    thewriter.writerow(['MAL0001', 'Eloise 1'])\n",
    "    thewriter.writerow(['TAN0000', 'Akin23'])\n",
    "    thewriter.writerow(['TAN0001', 'Akin12'])\n",
    "    thewriter.writerow(['TAN0002', 'Akin1'])\n",
    "    thewriter.writerow(['TAN0003', 'Akin'])\n",
    "    thewriter.writerow(['BOT0000', 'Thabo1'])\n",
    "    thewriter.writerow(['BOT0001', 'Thabo'])\n",
    "    thewriter.writerow(['ETH0000', 'Nadia'])\n",
    "    thewriter.writerow(['ETH0000', 'Nadia'])"
   ]
  },
  {
   "cell_type": "code",
   "execution_count": null,
   "id": "feb53e32-6427-4e84-a255-f75eec817d6c",
   "metadata": {},
   "outputs": [],
   "source": []
  }
 ],
 "metadata": {
  "kernelspec": {
   "display_name": "Python 3 (ipykernel)",
   "language": "python",
   "name": "python3"
  },
  "language_info": {
   "codemirror_mode": {
    "name": "ipython",
    "version": 3
   },
   "file_extension": ".py",
   "mimetype": "text/x-python",
   "name": "python",
   "nbconvert_exporter": "python",
   "pygments_lexer": "ipython3",
   "version": "3.9.12"
  }
 },
 "nbformat": 4,
 "nbformat_minor": 5
}
